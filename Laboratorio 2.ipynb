{
 "cells": [
  {
   "cell_type": "markdown",
   "metadata": {},
   "source": [
    "# Laboratorio 2: Controlabilidad, observabilidad, estabilidad y detectabilidad\n",
    "\n",
    "**Nombres:** Sebastián Acuña U. y Nicolás A. Herrera <br>\n",
    "**Fecha:** 10 de septiembre de 2024 <br>\n",
    "**Profesor:** Héctor Ramírez C. <br>\n",
    "**Auxiliar:** Diego Olguín W. <br>\n",
    "**Ayudantes:** Carlos Antil C. y Luis Fuentes C. <br>\n",
    "**Curso:** [MA4703-1] Control Óptimo: Teoría y Laboratorio"
   ]
  },
  {
   "cell_type": "code",
   "execution_count": 2,
   "metadata": {},
   "outputs": [],
   "source": [
    "# Librerías a utilizar\n",
    "\n",
    "#using Pkg\n",
    "#Pkg.add(\"DifferentialEquations\")\n",
    "#Pkg.add(\"JuMP\")\n",
    "#Pkg.add(\"NonlinearSolve\")\n",
    "#Pkg.add(\"OptimalControl\")\n",
    "#Pkg.add(\"LaTeXStrings\")\n",
    "#Pkg.add(\"NLPModelsIpopt\")\n",
    "#Pkg.add(\"ControlSystems\")\n",
    "\n",
    "using LinearAlgebra\n",
    "using Plots\n",
    "using LaTeXStrings\n",
    "using DifferentialEquations\n",
    "using NonlinearSolve\n",
    "using OptimalControl\n",
    "using ControlSystems"
   ]
  },
  {
   "cell_type": "markdown",
   "metadata": {},
   "source": [
    "## Parte A: Modelamiento y Simulación"
   ]
  },
  {
   "cell_type": "markdown",
   "metadata": {},
   "source": [
    "**Ejercicio 1:** Utilizando `DifferentialEquations` simule trayectorias del sistema lineal para distintos controles (constantes, sinusoidales, feedbacks, bang bang, etc.) con $\\Omega = 6.4 \\cdot 10^{−3}$ y $R_0^3 = \\frac{\\mu}{\\Omega_0^2}$."
   ]
  },
  {
   "cell_type": "code",
   "execution_count": null,
   "metadata": {},
   "outputs": [],
   "source": []
  },
  {
   "cell_type": "markdown",
   "metadata": {},
   "source": [
    "## Parte B: Controlabilidad, observabilidad y estabilidad"
   ]
  },
  {
   "cell_type": "markdown",
   "metadata": {},
   "source": [
    "**Ejercicio 2:** Utilizando `Julia` (sin el paquete de control), calcule la matriz de controlabilidad para el satélite. Compare el resultado con el obtenido usando el comando `ctrb` del paquete `ControlSystems` de `Julia`."
   ]
  },
  {
   "cell_type": "code",
   "execution_count": null,
   "metadata": {},
   "outputs": [],
   "source": []
  },
  {
   "cell_type": "markdown",
   "metadata": {},
   "source": [
    "**Ejercicio 3:** Usualmente es difícil conocer completamente las variables de estado ya que sólo podemos obtener observaciones imprecisas de estas. Por esto, en lo que sigue, supondremos que solamente observamos $x_1$ y $x_3$. Esto nos lleva a considerar un observador de la forma:\n",
    "\n",
    "$$\n",
    "\\vec{Y} = C\\vec{X}.\n",
    "$$\n",
    "\n",
    "Identifique $C$ y utilice `Julia` (sin el paquete de control) para calcular la matriz de observabilidad del sistema $(3)-(4)$. Compare con lo obtenido usando el comando `obsv` del paquete `ControlSystems` de `Julia`.\n"
   ]
  },
  {
   "cell_type": "code",
   "execution_count": null,
   "metadata": {},
   "outputs": [],
   "source": []
  },
  {
   "cell_type": "markdown",
   "metadata": {},
   "source": [
    "**Ejercicio 4:** A partir de lo aprendido en clases, calcule la forma canónica de Brunovski de los sistemas del ejercicio anterior (sin utilizar el toolbox de Control)."
   ]
  },
  {
   "cell_type": "markdown",
   "metadata": {},
   "source": []
  },
  {
   "cell_type": "markdown",
   "metadata": {},
   "source": [
    "## Parte C: Reguladores y estabilizadores "
   ]
  },
  {
   "cell_type": "markdown",
   "metadata": {},
   "source": [
    "**Ejercicio 5:** Construya un estabilizador por feedback lineal, $\\vec{U} = −K\\vec{X}$ para una matriz $K$ apropiada, para el sistema (3). Para esto, utilice los comandos `place` y `lqr` para obtener distintas matrices de ganancia $K$. Con `eigvals` de `LinearAlgebra` verifique los sistemas son estabilizables. Compare los resultados obtenidos al utilizar ambos comandos. Simule las trayectorias obtenidas por estos controles."
   ]
  },
  {
   "cell_type": "code",
   "execution_count": null,
   "metadata": {},
   "outputs": [],
   "source": []
  },
  {
   "cell_type": "markdown",
   "metadata": {},
   "source": [
    "**Ejercicio 6:** Construya el estimador de Luenberger asociado al sistema controlado y observado del ejercicio 3. Simule el estimador para distintos observaciones $Y(\\cdot)$ y controles $U(\\cdot)$."
   ]
  },
  {
   "cell_type": "code",
   "execution_count": null,
   "metadata": {},
   "outputs": [],
   "source": []
  },
  {
   "cell_type": "markdown",
   "metadata": {},
   "source": [
    "**Ejercicio 7:** Considere los sistemas lineales controlados y observados del ejercicio 3. A partir de lo aprendido en clases, construya un control estabilizador por feedback lineal a partir de la observación $\\vec{Y}$. Simule lo obtenido y compare con las trayectorias del sistema original para distintas condiciones iniciales. Discuta los resultados numéricos obtenidos en base a la teoría vista en cátedra."
   ]
  },
  {
   "cell_type": "markdown",
   "metadata": {},
   "source": []
  },
  {
   "cell_type": "markdown",
   "metadata": {},
   "source": [
    "**Ejercicio 8:** Utilizando `DifferentialEquations` resuelva numéricamente el sistema no lineal $(1)-(2)$ con los distintos controles obtenidos de los ejercicios 6 y 7. Grafique las soluciones y los controles obtenidos y compare los gráficos con las soluciones del sistema lineal $(3)$."
   ]
  },
  {
   "cell_type": "code",
   "execution_count": null,
   "metadata": {},
   "outputs": [],
   "source": []
  }
 ],
 "metadata": {
  "kernelspec": {
   "display_name": "Julia 1.10.4",
   "language": "julia",
   "name": "julia-1.10"
  },
  "language_info": {
   "file_extension": ".jl",
   "mimetype": "application/julia",
   "name": "julia",
   "version": "1.10.4"
  }
 },
 "nbformat": 4,
 "nbformat_minor": 2
}
