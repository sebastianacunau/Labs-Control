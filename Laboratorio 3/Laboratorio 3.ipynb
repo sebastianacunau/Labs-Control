{
 "cells": [
  {
   "cell_type": "markdown",
   "metadata": {},
   "source": [
    "# Laboratorio 3: Problema de tiempo mínimo y lineal cuadrático\n",
    "\n",
    "**Nombres:** Sebastián Acuña U. y Patricio Yañez A. <br>\n",
    "**Fecha:** 4 de octubre de 2024 <br>\n",
    "**Profesor:** Héctor Ramírez C. <br>\n",
    "**Auxiliar:** Diego Olguín W. <br>\n",
    "**Ayudantes:** Carlos Antil C. y Luis Fuentes C. <br>\n",
    "**Curso:** [MA4703-1] Control Óptimo: Teoría y Laboratorio"
   ]
  },
  {
   "cell_type": "code",
   "execution_count": 1,
   "metadata": {},
   "outputs": [],
   "source": [
    "# Librerías a utilizar\n",
    "\n",
    "#using Pkg\n",
    "#Pkg.add(\"DifferentialEquations\")\n",
    "#Pkg.add(\"JuMP\")\n",
    "#Pkg.add(\"NonlinearSolve\")\n",
    "#Pkg.add(\"OptimalControl\")\n",
    "#Pkg.add(\"LaTeXStrings\")\n",
    "#Pkg.add(\"NLPModelsIpopt\")\n",
    "#Pkg.add(\"ControlSystems\")\n",
    "#Pkg.add(\"Interpolations\")\n",
    "\n",
    "using LinearAlgebra\n",
    "using Plots\n",
    "using LaTeXStrings\n",
    "using JuMP\n",
    "using Ipopt\n",
    "using NLPModelsIpopt\n",
    "using DifferentialEquations\n",
    "using NonlinearSolve\n",
    "using OptimalControl\n",
    "using ControlSystems\n",
    "using Interpolations"
   ]
  },
  {
   "cell_type": "markdown",
   "metadata": {},
   "source": [
    "## Parte A: Control de un carro-cohete en tiempo mínimo y método de resolución directo"
   ]
  },
  {
   "cell_type": "markdown",
   "metadata": {},
   "source": [
    "### Ejercicio 1"
   ]
  },
  {
   "cell_type": "markdown",
   "metadata": {},
   "source": [
    "Tenemos la ecuación de la dinámica\n",
    "\n",
    "$$\n",
    "\\ddot{x} = -\\alpha x + u\n",
    "$$\n",
    "\n",
    "con condiciones de borde $\\mathbf{x_0} = (x_0, v_0) = (0,0)$ y $\\mathbf{x_{t_f}} = (x_{t_f}, v_{t_f}) = (x_f, 0)$. Nos interesa resolver el problema \n",
    "\n",
    "$$\n",
    "\\min_{u \\in \\mathcal{A}}{t_f}; \\ \\ x(t_f;u,\\mathbf{x_0}) = x_f; \\ \\ v(t_f;u,\\mathbf{x_0}) = 0\n",
    "$$\n",
    "\n",
    "donde $|u(t)| \\leq 1, \\; \\forall t$. \n",
    "\n",
    "Definiendo $v = \\dot{x}$ se genera un sistema de ecuaciones cuya forma matricial es\n",
    "\n",
    "$$\n",
    "\\dot{\\begin{pmatrix}\n",
    "x(t) \\\\\n",
    "v(t)\n",
    "\\end{pmatrix}}\n",
    "=\n",
    "\\begin{pmatrix}\n",
    "0 & 1 \\\\\n",
    "-\\alpha & 0\n",
    "\\end{pmatrix}\n",
    "\\begin{pmatrix}\n",
    "x(t) \\\\\n",
    "v(t)\n",
    "\\end{pmatrix}\n",
    "+\n",
    "\\begin{pmatrix}\n",
    "0 \\\\\n",
    "1\n",
    "\\end{pmatrix}\n",
    "u(t)\n",
    "$$\n",
    "\n",
    "Si discretizamos la dinámica particionando el intervalo $[0,t_f]$ en $N$ puntos $0 = t_1 < t_2 < \\cdots < t_{N} = t_f$, donde $t_i = (i-1) \\dfrac{t_f}{N-1}$ obtenemos el siguiente sistema \n",
    "\n",
    "\\begin{align*}\n",
    "\\dfrac{x_{i+1}-x_i}{h} &= v_i \\\\\n",
    "\\dfrac{v_{i+1}-v_i}{h} &= -\\alpha x_i + u_i\n",
    "\\end{align*}\n",
    "\n",
    "donde $x_i = x(t_i), v_i = v(t_i), u_i = u(t_i)$ y $h = \\frac{t_f}{N-1}$. Esto en particular implica que \n",
    "\n",
    "$$\n",
    "\\begin{pmatrix}\n",
    "x_{i+1} \\\\\n",
    "v_{i+1}\n",
    "\\end{pmatrix} = \\begin{pmatrix}\n",
    "x_i \\\\\n",
    "v_i\n",
    "\\end{pmatrix} + h \\begin{pmatrix}\n",
    "v_i \\\\\n",
    "-\\alpha x_i\n",
    "\\end{pmatrix} + h \\begin{pmatrix}\n",
    "0 \\\\\n",
    "u_i\n",
    "\\end{pmatrix}\n",
    "$$\n",
    "\n",
    "Con ello, el problema de optimización consiste en minimizar $t_f$ bajo las restricciones provistas por la dinámica discretizada, el valor de $h$ como *step function* y las condiciones de borde mencionadas al inicio."
   ]
  },
  {
   "cell_type": "markdown",
   "metadata": {},
   "source": [
    "### Ejercicio 2"
   ]
  },
  {
   "cell_type": "code",
   "execution_count": null,
   "metadata": {},
   "outputs": [],
   "source": [
    "# Definición de la discretización de Euler y resolución utilizando JuMP\n",
    "\n",
    "function euler_discretization(N, α, x_f)\n",
    "    model = JuMP.Model(Ipopt.Optimizer)\n",
    "    \n",
    "    @variable(model, 0 <= t_f)\n",
    "    @variable(model, -1 <= u[1:N-1] <= 1)\n",
    "    @variable(model, x[1:N])\n",
    "    @variable(model, v[1:N])\n",
    "    \n",
    "    h = t_f / (N - 1)\n",
    "    \n",
    "    @constraint(model, x[1] == 0)\n",
    "    @constraint(model, v[1] == 0)\n",
    "    @constraint(model, x[N] == x_f)\n",
    "    @constraint(model, v[N] == 0)\n",
    "    \n",
    "    for i in 1:N-1\n",
    "        @constraint(model, x[i+1] == x[i] + h * v[i])\n",
    "        @constraint(model, v[i+1] == v[i] + h * (-α * x[i] + u[i]))\n",
    "    end\n",
    "    \n",
    "    @objective(model, Min, t_f)\n",
    "    \n",
    "    optimize!(model)\n",
    "    \n",
    "    return value.(x), value.(v), value.(u), value(t_f)\n",
    "end\n",
    "\n",
    "# Parámetros de juguete\n",
    "N = 100\n",
    "α = 1.0\n",
    "x_f = 100.0\n",
    "\n",
    "# Resolución\n",
    "x, v, u, t_f = euler_discretization(N, α, x_f)"
   ]
  },
  {
   "cell_type": "code",
   "execution_count": null,
   "metadata": {
    "scrolled": true
   },
   "outputs": [],
   "source": [
    "# Resultados\n",
    "println(\"Tiempo final óptimo: \", t_f)\n",
    "println(\"Posiciones: \", x)\n",
    "println(\"Velocidades: \", v)\n",
    "println(\"Control: \", u)"
   ]
  },
  {
   "cell_type": "markdown",
   "metadata": {},
   "source": [
    "A continuación se prueba el método discreto para distintos valores de $N$, $\\alpha$ y la posición final $x_f$."
   ]
  },
  {
   "cell_type": "code",
   "execution_count": null,
   "metadata": {
    "scrolled": true
   },
   "outputs": [],
   "source": [
    "# N = 10\n",
    "N = 10\n",
    "α_values = [0, 1, 5]\n",
    "x_f_values = [-20, 10, 40]\n",
    "\n",
    "# Resolver el problema de tiempo mínimo discretizado probando las combinaciones de N, α, x_f\n",
    "results_1 = []\n",
    "for a in α_values\n",
    "    for xf in x_f_values\n",
    "        try\n",
    "            x, v, u, t_f = euler_discretization(N, a, xf)\n",
    "            push!(results_1, (N=N, α=a, x_f=xf, t_f=t_f, x=x, v=v, u=u))\n",
    "            println(\"N: $N, α: $a, x_f: $xf, t_f: $t_f\")\n",
    "        catch e\n",
    "            println(\"Error con N: $N, α: $a, x_f: $xf - \", e)\n",
    "        end\n",
    "    end\n",
    "end"
   ]
  },
  {
   "cell_type": "code",
   "execution_count": null,
   "metadata": {},
   "outputs": [],
   "source": [
    "results_1"
   ]
  },
  {
   "cell_type": "code",
   "execution_count": null,
   "metadata": {
    "scrolled": true
   },
   "outputs": [],
   "source": [
    "# N = 100\n",
    "N = 100\n",
    "α_values = [0, 1, 5]\n",
    "x_f_values = [-20, 10, 40]\n",
    "\n",
    "# Resolver el problema de tiempo mínimo discretizado probando las combinaciones de N, α, x_f\n",
    "results_2 = []\n",
    "for a in α_values\n",
    "    for xf in x_f_values\n",
    "        try\n",
    "            x, v, u, t_f = euler_discretization(N, a, xf)\n",
    "            push!(results_2, (N=N, α=a, x_f=xf, t_f=t_f, x=x, v=v, u=u))\n",
    "            println(\"N: $N, α: $a, x_f: $xf, t_f: $t_f\")\n",
    "        catch e\n",
    "            println(\"Error con N: $N, α: $a, x_f: $xf - \", e)\n",
    "        end\n",
    "    end\n",
    "end"
   ]
  },
  {
   "cell_type": "code",
   "execution_count": null,
   "metadata": {
    "scrolled": true
   },
   "outputs": [],
   "source": [
    "results_2"
   ]
  },
  {
   "cell_type": "code",
   "execution_count": null,
   "metadata": {},
   "outputs": [],
   "source": [
    "# N = 250\n",
    "N = 250\n",
    "α_values = [0, 1, 5]\n",
    "x_f_values = [-20, 10, 40]\n",
    "\n",
    "# Resolver el problema de tiempo mínimo discretizado probando las combinaciones de N, α, x_f\n",
    "results_3 = []\n",
    "for a in α_values\n",
    "    for xf in x_f_values\n",
    "        try\n",
    "            x, v, u, t_f = euler_discretization(N, a, xf)\n",
    "            push!(results_3, (N=N, α=a, x_f=xf, t_f=t_f, x=x, v=v, u=u))\n",
    "            println(\"N: $N, α: $a, x_f: $xf, t_f: $t_f\")\n",
    "        catch e\n",
    "            println(\"Error con N: $N, α: $a, x_f: $xf - \", e)\n",
    "        end\n",
    "    end\n",
    "end"
   ]
  },
  {
   "cell_type": "code",
   "execution_count": null,
   "metadata": {},
   "outputs": [],
   "source": [
    "results_3"
   ]
  },
  {
   "cell_type": "markdown",
   "metadata": {},
   "source": [
    "#### Selección de gráficos de posición y velocidad obtenidos"
   ]
  },
  {
   "cell_type": "markdown",
   "metadata": {},
   "source": [
    "Gráfico para $N = 10$, $\\alpha = 0$, $x_f = -20$"
   ]
  },
  {
   "cell_type": "code",
   "execution_count": null,
   "metadata": {},
   "outputs": [],
   "source": [
    "result1 = results_1[1]\n",
    "\n",
    "# Extraer los valores de x, v, u y t_f\n",
    "x = result1.x\n",
    "v = result1.v\n",
    "u = result1.u\n",
    "t_f = result1.t_f\n",
    "N = result1.N\n",
    "\n",
    "# Crear el rango de tiempo\n",
    "t = range(0, stop=t_f, length=N)"
   ]
  },
  {
   "cell_type": "code",
   "execution_count": null,
   "metadata": {},
   "outputs": [],
   "source": [
    "# Graficar la trayectoria x(t)\n",
    "plot(t, x, label=\"Posición x(t)\", xlabel=\"Tiempo t\", ylabel=\"Posición x\", title=\"Trayectoria óptima para N=$N, α=$(result1.α), x_f=$(result1.x_f)\")"
   ]
  },
  {
   "cell_type": "code",
   "execution_count": null,
   "metadata": {},
   "outputs": [],
   "source": [
    "# Graficar la velocidad v(t)\n",
    "plot(t, v, label=\"Velocidad v(t)\", xlabel=\"Tiempo t\", ylabel=\"Velocidad v\", title=\"Velocidad óptima para N=$N, α=$(result1.α), x_f=$(result1.x_f)\")"
   ]
  },
  {
   "cell_type": "code",
   "execution_count": null,
   "metadata": {},
   "outputs": [],
   "source": [
    "# Graficar el control u(t)\n",
    "plot(t[1:N-1], u, label=\"Control u(t)\", xlabel=\"Tiempo t\", ylabel=\"Control u\", title=\"Control óptimo para N=$N, α=$(result1.α), x_f=$(result1.x_f)\", legend=:bottomright)"
   ]
  },
  {
   "cell_type": "markdown",
   "metadata": {},
   "source": [
    "### Ejercicio 3"
   ]
  },
  {
   "cell_type": "code",
   "execution_count": null,
   "metadata": {},
   "outputs": [],
   "source": [
    "# Definición y resolución del problema de tiempo mínimo utilizando OptimalControl\n",
    "\n",
    "function solve_min_time_continuous(α, x_f)\n",
    "    model = OptimalControl.Model(Ipopt.Optimizer, 2, 1)\n",
    "\n",
    "    @def begin\n",
    "        t_f ∈ R, variable\n",
    "        t ∈ [0, t_f], time\n",
    "        x ∈ R², state\n",
    "        u ∈ [-1, 1], control\n",
    "        x' = [x[2], -α * x[1] + u]\n",
    "        x(0) = [0, 0]\n",
    "        x(t_f) = [x_f, 0]\n",
    "        t_f >= 0\n",
    "    end\n",
    "\n",
    "    @objective(model, Min, tf)\n",
    "\n",
    "    optimize!(model)\n",
    "\n",
    "    return solution(model)\n",
    "end\n",
    "\n",
    "# Parámetros de juguete\n",
    "α = 1.0\n",
    "x_f = 100.0\n",
    "\n",
    "# Resolución\n",
    "sol = solve_min_time_continuous(α, x_f)\n",
    "\n",
    "println(\"Tiempo final óptimo: \", sol.tf)\n",
    "println(\"Posiciones: \", sol.x[1,:])\n",
    "println(\"Velocidades: \", sol.x[2,:])\n",
    "println(\"Control: \", sol.u[1,:])"
   ]
  },
  {
   "cell_type": "markdown",
   "metadata": {},
   "source": [
    "### Ejercicio 4"
   ]
  },
  {
   "cell_type": "code",
   "execution_count": null,
   "metadata": {},
   "outputs": [],
   "source": []
  },
  {
   "cell_type": "markdown",
   "metadata": {},
   "source": [
    "## Parte B: Problema lineal cuadrático. Carro cohete en 2-D"
   ]
  },
  {
   "cell_type": "markdown",
   "metadata": {},
   "source": [
    "### Ejercicio 5"
   ]
  },
  {
   "cell_type": "code",
   "execution_count": null,
   "metadata": {},
   "outputs": [],
   "source": []
  },
  {
   "cell_type": "markdown",
   "metadata": {},
   "source": [
    "### Ejercicio 6"
   ]
  },
  {
   "cell_type": "code",
   "execution_count": null,
   "metadata": {},
   "outputs": [],
   "source": []
  },
  {
   "cell_type": "markdown",
   "metadata": {},
   "source": [
    "### Ejercicio 7"
   ]
  },
  {
   "cell_type": "code",
   "execution_count": null,
   "metadata": {},
   "outputs": [],
   "source": []
  },
  {
   "cell_type": "markdown",
   "metadata": {},
   "source": [
    "### Ejercicio 8"
   ]
  },
  {
   "cell_type": "code",
   "execution_count": null,
   "metadata": {},
   "outputs": [],
   "source": []
  }
 ],
 "metadata": {
  "kernelspec": {
   "display_name": "Julia 1.10.4",
   "language": "julia",
   "name": "julia-1.10"
  },
  "language_info": {
   "file_extension": ".jl",
   "mimetype": "application/julia",
   "name": "julia",
   "version": "1.10.4"
  }
 },
 "nbformat": 4,
 "nbformat_minor": 4
}
